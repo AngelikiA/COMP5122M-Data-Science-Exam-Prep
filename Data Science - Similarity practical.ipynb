{
 "cells": [
  {
   "cell_type": "markdown",
   "metadata": {},
   "source": [
    "# 1 - Euclidean Similarity"
   ]
  },
  {
   "cell_type": "code",
   "execution_count": 153,
   "metadata": {},
   "outputs": [
    {
     "name": "stdout",
     "output_type": "stream",
     "text": [
      "The Euclidean distance between A-B is  1.0\n",
      "The Euclidean distance between A-C is  9.9\n",
      "The Euclidean distance between A-D is  12.45\n"
     ]
    }
   ],
   "source": [
    "# ~~~~~~~~~~~~~~~~~  DATASET  ~~~~~~~~~~~~~~~~~~~~~~\n",
    "# __________________________________________________\n",
    "# |RECORD|Measurement_1|Measurement_2|Measurement_3|\n",
    "# __________________________________________________\n",
    "# |  A  |       0     |      5      |      9       |\n",
    "# __________________________________________________\n",
    "# |  B  |       0     |      6      |      9       |\n",
    "# __________________________________________________\n",
    "# |  C  |       1     |      9      |      0       |\n",
    "# __________________________________________________\n",
    "# |  D  |       9     |      0      |      2       |\n",
    "# __________________________________________________\n",
    "\n",
    "#import functions\n",
    "import numpy as np\n",
    "from numpy.linalg import norm\n",
    "\n",
    "#define vectors\n",
    "A = np.array([0,5,9])\n",
    "B = np.array([0,6,9])\n",
    "C = np.array([1,9,0])\n",
    "D = np.array([9,0,2])\n",
    "\n",
    "#calculate Euclidean distance between the two vectors \n",
    "print('The Euclidean distance between A-B is ', round(norm(A-B),2))\n",
    "print('The Euclidean distance between A-C is ', round(norm(A-C),2))\n",
    "print('The Euclidean distance between A-D is ', round(norm(A-D),2))"
   ]
  },
  {
   "cell_type": "markdown",
   "metadata": {},
   "source": [
    "# 2 - Manhattan distance similarity"
   ]
  },
  {
   "cell_type": "code",
   "execution_count": 150,
   "metadata": {},
   "outputs": [
    {
     "name": "stdout",
     "output_type": "stream",
     "text": [
      "A-B is  1\n",
      "A-C is  14\n",
      "A-D is  21\n"
     ]
    }
   ],
   "source": [
    "# ~~~~~~~~~~~~~~~~~  DATASET  ~~~~~~~~~~~~~~~~~~~~~~\n",
    "# __________________________________________________\n",
    "# |RECORD|Measurement_1|Measurement_2|Measurement_3|\n",
    "# __________________________________________________\n",
    "# |  A  |       0     |      5      |      9       |\n",
    "# __________________________________________________\n",
    "# |  B  |       0     |      6      |      9       |\n",
    "# __________________________________________________\n",
    "# |  C  |       1     |      9      |      0       |\n",
    "# __________________________________________________\n",
    "# |  D  |       9     |      0      |      2       |\n",
    "# __________________________________________________\n",
    "\n",
    "# import libraries\n",
    "from math import sqrt\n",
    "\n",
    "#create function to calculate Manhattan distance \n",
    "def manhattan(a, b):\n",
    "    return sum(abs(val1-val2) for val1, val2 in zip(a,b))\n",
    " \n",
    "#define vectors\n",
    "A = np.array([0,5,9])\n",
    "B = np.array([0,6,9])\n",
    "C = np.array([1,9,0])\n",
    "D = np.array([9,0,2])\n",
    "\n",
    "#calculate Manhattan distance between vectors\n",
    "print('A-B is ', manhattan(A, B))\n",
    "print('A-C is ', manhattan(A, C))\n",
    "print('A-D is ', manhattan(A, D))"
   ]
  },
  {
   "cell_type": "markdown",
   "metadata": {},
   "source": [
    "# 3 - Euclidean Similarity"
   ]
  },
  {
   "cell_type": "code",
   "execution_count": 151,
   "metadata": {},
   "outputs": [
    {
     "name": "stdout",
     "output_type": "stream",
     "text": [
      "The Euclidean distance between A-B is  0.17\n",
      "The Euclidean distance between A-C is  0.83\n",
      "The Euclidean distance between A-D is  1.64\n"
     ]
    }
   ],
   "source": [
    "# ~~~~~~~~~~~~~~~~~  DATASET  ~~~~~~~~~~~~~~~~~~~~~~\n",
    "# __________________________________________________\n",
    "# |RECORD|Measurement_1|Measurement_2|Measurement_3|\n",
    "# __________________________________________________\n",
    "# |  A  |       0     |      5      |      9       |\n",
    "# __________________________________________________\n",
    "# |  B  |       0     |      6      |      9       |\n",
    "# __________________________________________________\n",
    "# |  C  |       1     |      9      |      0       |\n",
    "# __________________________________________________\n",
    "# |  D  |      100    |      0      |      2       |\n",
    "# __________________________________________________\n",
    "\n",
    "#import libraries\n",
    "import numpy as np\n",
    "\n",
    "#define vectors\n",
    "a = np.array([0,5,9])\n",
    "b = np.array([0,6,9])\n",
    "c = np.array([1,0,9])\n",
    "d = np.array([100,0,2])\n",
    "\n",
    "#Normalise columns.  The normalised value for each xi of column x is (xi – min(x)) / (max(x) – min(x)).\n",
    "col1 = np.array([0,0,1,100])\n",
    "\n",
    "for x in col1:\n",
    "    x = (x - min(col1)) / (max(col1) - min(col1))\n",
    "    #print(x)\n",
    "    \n",
    "col2 = np.array([5,6,0,0])\n",
    "\n",
    "for x in col2:\n",
    "    x = (x - min(col2)) / (max(col2) - min(col2))\n",
    "    #print(x)\n",
    "    \n",
    "col3 = np.array([9,9,9,2])\n",
    "\n",
    "for x in col3:\n",
    "    x = (x - min(col3)) / (max(col3) - min(col3))\n",
    "    #print(x)\n",
    "\n",
    "#normalised vectors\n",
    "A = np.array([0,0.83,1])\n",
    "B = np.array([0,1,1])\n",
    "C = np.array([0.01,0,1])\n",
    "D = np.array([1,0,0])\n",
    "\n",
    "#calculate Euclidean distance between the two vectors \n",
    "print('The Euclidean distance between A-B is ', round(norm(A-B),2))\n",
    "print('The Euclidean distance between A-C is ', round(norm(A-C),2))\n",
    "print('The Euclidean distance between A-D is ', round(norm(A-D),2))"
   ]
  },
  {
   "cell_type": "markdown",
   "metadata": {},
   "source": [
    "# 4 - Euclidean Similarity"
   ]
  },
  {
   "cell_type": "code",
   "execution_count": 152,
   "metadata": {},
   "outputs": [
    {
     "name": "stdout",
     "output_type": "stream",
     "text": [
      "The Euclidean distance between A-B is  1.41\n",
      "The Euclidean distance between A-C is  1.47\n",
      "The Euclidean distance between A-D is  1.41\n"
     ]
    }
   ],
   "source": [
    "# ~~~~~~~~~~~~~~~~~  DATASET  ~~~~~~~~~~~~~~~~~~~~~~\n",
    "# __________________________________________________\n",
    "# |RECORD|Measurement_1|Measurement_2|Measurement_3|\n",
    "# __________________________________________________\n",
    "# |  A  |       0     |      1      |      1       |\n",
    "# __________________________________________________\n",
    "# |  B  |       1     |      2      |      2       |\n",
    "# __________________________________________________\n",
    "# |  C  |       4     |      2      |      3       |\n",
    "# __________________________________________________\n",
    "# |  D  |       9     |      1      |      4       |\n",
    "# __________________________________________________\n",
    "\n",
    "#import functions\n",
    "import numpy as np\n",
    "\n",
    "#define vectors\n",
    "a = np.array([0,1,1])\n",
    "b = np.array([1,2,2])\n",
    "c = np.array([4,2,3])\n",
    "d = np.array([9,1,4])\n",
    "\n",
    "#normalise 1st column\n",
    "col1 = np.array([0,1,4,9])\n",
    "for x in col1:\n",
    "    x = (x - min(col1)) / (max(col1) - min(col1))\n",
    "    #print(x)\n",
    "\n",
    "#Categories are either equal or not equal to each other so the Euclidean distance is either 0 or 1 for categorical data.\n",
    "#normalised vectors\n",
    "A = np.array([0,1,0])\n",
    "B = np.array([1,2,0])\n",
    "C = np.array([0.4,2,1])\n",
    "D = np.array([1,1,1])\n",
    "\n",
    "\n",
    "#calculate Euclidean distance between the two vectors \n",
    "print('The Euclidean distance between A-B is ', round(norm(A-B),2))\n",
    "print('The Euclidean distance between A-C is ', round(norm(A-C),2))\n",
    "print('The Euclidean distance between A-D is ', round(norm(A-D),2))"
   ]
  },
  {
   "cell_type": "markdown",
   "metadata": {},
   "source": [
    "# Extra stuff: Jaccard distance"
   ]
  },
  {
   "cell_type": "code",
   "execution_count": 146,
   "metadata": {},
   "outputs": [
    {
     "name": "stdout",
     "output_type": "stream",
     "text": [
      "Jaccard similarity between A-B is  0.5\n",
      "Jaccard similarity between A-C is  0.5\n",
      "Jaccard similarity between A-D is  0.5\n"
     ]
    }
   ],
   "source": [
    "# ~~~~~~~~~~~~~~~~~  DATASET  ~~~~~~~~~~~~~~~~~~~~~~\n",
    "# __________________________________________________\n",
    "# |RECORD|Measurement_1|Measurement_2|Measurement_3|\n",
    "# __________________________________________________\n",
    "# |  A  |       0     |      5      |      9       |\n",
    "# __________________________________________________\n",
    "# |  B  |       0     |      6      |      9       |\n",
    "# __________________________________________________\n",
    "# |  C  |       1     |      9      |      0       |\n",
    "# __________________________________________________\n",
    "# |  D  |       9     |      0      |      2       |\n",
    "# __________________________________________________\n",
    "\n",
    "#import functions\n",
    "import numpy as np\n",
    "\n",
    "#define vectors\n",
    "A = np.array([0,5,9])\n",
    "B = np.array([0,6,9])\n",
    "C = np.array([1,9,0])\n",
    "D = np.array([9,0,2])\n",
    "\n",
    "#define Jaccard Similarity function\n",
    "def jaccard(x, y):\n",
    "    intersection = len(list(set(x).intersection(y)))\n",
    "    union = (len(x) + len(y)) - intersection\n",
    "    return float(intersection) / union\n",
    "\n",
    "#find Jaccard similarity between the two sets\n",
    "print('Jaccard similarity between A-B is ', round(jaccard(A,B), 2))\n",
    "print('Jaccard similarity between A-C is ', round(jaccard(A,C), 2))\n",
    "print('Jaccard similarity between A-D is ', round(jaccard(A,D), 2))"
   ]
  },
  {
   "cell_type": "markdown",
   "metadata": {},
   "source": [
    "# Extra stuff: Cosine similarity"
   ]
  },
  {
   "cell_type": "code",
   "execution_count": 148,
   "metadata": {},
   "outputs": [
    {
     "name": "stdout",
     "output_type": "stream",
     "text": [
      "Cosine similarity between A-B is  1.0\n",
      "Cosine similarity between A-C is  0.48\n",
      "Cosine similarity between A-D is  0.19\n"
     ]
    }
   ],
   "source": [
    "# ~~~~~~~~~~~~~~~~~  DATASET  ~~~~~~~~~~~~~~~~~~~~~~\n",
    "# __________________________________________________\n",
    "# |RECORD|Measurement_1|Measurement_2|Measurement_3|\n",
    "# __________________________________________________\n",
    "# |  A  |       0     |      5      |      9       |\n",
    "# __________________________________________________\n",
    "# |  B  |       0     |      6      |      9       |\n",
    "# __________________________________________________\n",
    "# |  C  |       1     |      9      |      0       |\n",
    "# __________________________________________________\n",
    "# |  D  |       9     |      0      |      2       |\n",
    "# __________________________________________________\n",
    "\n",
    "# import libraries\n",
    "import numpy as np\n",
    "from numpy.linalg import norm\n",
    " \n",
    "#define vectors\n",
    "A = np.array([0,5,9])\n",
    "B = np.array([0,6,9])\n",
    "C = np.array([1,9,0])\n",
    "D = np.array([9,0,2])\n",
    " \n",
    "# compute cosine similarity\n",
    "def cosine(x,y):\n",
    "    cosine = np.dot(x,y)/(norm(x)*norm(y))\n",
    "    return cosine\n",
    "\n",
    "#find cosine similarity between the two sets\n",
    "print('Cosine similarity between A-B is ', round(cosine(A,B), 2))\n",
    "print('Cosine similarity between A-C is ', round(cosine(A,C), 2))\n",
    "print('Cosine similarity between A-D is ', round(cosine(A,D), 2))"
   ]
  }
 ],
 "metadata": {
  "kernelspec": {
   "display_name": "Python 3",
   "language": "python",
   "name": "python3"
  },
  "language_info": {
   "codemirror_mode": {
    "name": "ipython",
    "version": 3
   },
   "file_extension": ".py",
   "mimetype": "text/x-python",
   "name": "python",
   "nbconvert_exporter": "python",
   "pygments_lexer": "ipython3",
   "version": "3.7.6"
  }
 },
 "nbformat": 4,
 "nbformat_minor": 4
}
