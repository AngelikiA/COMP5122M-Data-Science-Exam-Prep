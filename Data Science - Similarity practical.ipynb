{
 "cells": [
  {
   "cell_type": "markdown",
   "metadata": {},
   "source": [
    "# 1 - Euclidean Similarity"
   ]
  },
  {
   "cell_type": "code",
   "execution_count": 14,
   "metadata": {},
   "outputs": [
    {
     "name": "stdout",
     "output_type": "stream",
     "text": [
      "A-B is  1.0\n",
      "A-C is  9.899494936611665\n",
      "A-D is  12.449899597988733\n"
     ]
    }
   ],
   "source": [
    "#import functions\n",
    "import numpy as np\n",
    "from numpy.linalg import norm\n",
    "\n",
    "#define vectors\n",
    "a = np.array([0,5,9])\n",
    "b = np.array([0,6,9])\n",
    "c = np.array([1,9,0])\n",
    "d = np.array([9,0,2])\n",
    "\n",
    "#calculate Euclidean distance between the two vectors \n",
    "print('A-B is ', norm(a-b))\n",
    "print('A-C is ', norm(a-c))\n",
    "print('A-D is ', norm(a-d))"
   ]
  },
  {
   "cell_type": "markdown",
   "metadata": {},
   "source": [
    "# 2 - Manhattan distance"
   ]
  },
  {
   "cell_type": "code",
   "execution_count": 27,
   "metadata": {},
   "outputs": [
    {
     "name": "stdout",
     "output_type": "stream",
     "text": [
      "A-B is  1\n",
      "A-C is  14\n",
      "A-D is  21\n"
     ]
    }
   ],
   "source": [
    "from math import sqrt\n",
    "\n",
    "#create function to calculate Manhattan distance \n",
    "def manhattan(a, b):\n",
    "    return sum(abs(val1-val2) for val1, val2 in zip(a,b))\n",
    " \n",
    "#define vectors\n",
    "A = np.array([0,5,9])\n",
    "B = np.array([0,6,9])\n",
    "C = np.array([1,9,0])\n",
    "D = np.array([9,0,2])\n",
    "\n",
    "#calculate Manhattan distance between vectors\n",
    "print('A-B is ', round(manhattan(A, B), 2))\n",
    "print('A-C is ', round(manhattan(A, C), 2))\n",
    "print('A-D is ', round(manhattan(A, D), 2))"
   ]
  },
  {
   "cell_type": "markdown",
   "metadata": {},
   "source": [
    "# 3"
   ]
  },
  {
   "cell_type": "code",
   "execution_count": 34,
   "metadata": {},
   "outputs": [
    {
     "name": "stdout",
     "output_type": "stream",
     "text": [
      "A-B is  0.5\n",
      "A-C is  0.5\n",
      "A-D is  0.2\n",
      "Hellinger similarity between A-B is  0.15\n",
      "Hellinger similarity between A-C is  1.73\n",
      "Hellinger similarity between A-D is  7.33\n"
     ]
    }
   ],
   "source": [
    "#import functions\n",
    "import numpy as np\n",
    "from numpy.linalg import norm\n",
    "\n",
    "_SQRT2 = np.sqrt(2)     # sqrt(2) with default precision np.float64\n",
    "\n",
    "#define vectors\n",
    "A = np.array([0,5,9])\n",
    "B = np.array([0,6,9])\n",
    "C = np.array([1,0,9])\n",
    "D = np.array([100,0,2])\n",
    "\n",
    "#define Jaccard Similarity function\n",
    "def jaccard(list1, list2):\n",
    "    intersection = len(list(set(list1).intersection(list2)))\n",
    "    union = (len(list1) + len(list2)) - intersection\n",
    "    return float(intersection) / union\n",
    "\n",
    "def hellinger3(p, q):\n",
    "    return np.sqrt(np.sum((np.sqrt(p) - np.sqrt(q)) ** 2)) / _SQRT2\n",
    "\n",
    "#find Jaccard similarity between the two sets\n",
    "print('A-B is ', round(jaccard(A,B), 2))\n",
    "print('A-C is ', round(jaccard(A,C), 2))\n",
    "print('A-D is ', round(jaccard(A,D), 2))\n",
    "\n",
    "#find Hellinger similarity between the two sets\n",
    "print('Hellinger similarity between A-B is ', round(hellinger3(A,B), 2))\n",
    "print('Hellinger similarity between A-C is ', round(hellinger3(A,C), 2))\n",
    "print('Hellinger similarity between A-D is ', round(hellinger3(A,D), 2))"
   ]
  },
  {
   "cell_type": "markdown",
   "metadata": {},
   "source": [
    "# 4"
   ]
  },
  {
   "cell_type": "code",
   "execution_count": 28,
   "metadata": {},
   "outputs": [
    {
     "name": "stdout",
     "output_type": "stream",
     "text": [
      "A-B is  1.73\n",
      "A-C is  4.58\n",
      "A-D is  9.49\n"
     ]
    }
   ],
   "source": [
    "#import functions\n",
    "import numpy as np\n",
    "from numpy.linalg import norm\n",
    "\n",
    "#define vectors\n",
    "A = np.array([0,1,1])\n",
    "B = np.array([1,2,2])\n",
    "C = np.array([4,2,3])\n",
    "D = np.array([9,1,4])\n",
    "\n",
    "#calculate Euclidean distance between the two vectors \n",
    "print('A-B is ', round(norm(A-B), 2))\n",
    "print('A-C is ', round(norm(A-C), 2))\n",
    "print('A-D is ', round(norm(A-D), 2))"
   ]
  }
 ],
 "metadata": {
  "kernelspec": {
   "display_name": "Python 3",
   "language": "python",
   "name": "python3"
  },
  "language_info": {
   "codemirror_mode": {
    "name": "ipython",
    "version": 3
   },
   "file_extension": ".py",
   "mimetype": "text/x-python",
   "name": "python",
   "nbconvert_exporter": "python",
   "pygments_lexer": "ipython3",
   "version": "3.7.6"
  }
 },
 "nbformat": 4,
 "nbformat_minor": 4
}
