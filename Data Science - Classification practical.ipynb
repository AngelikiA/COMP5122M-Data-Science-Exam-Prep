{
 "cells": [
  {
   "cell_type": "code",
   "execution_count": 36,
   "metadata": {},
   "outputs": [
    {
     "data": {
      "text/html": [
       "<div>\n",
       "<style scoped>\n",
       "    .dataframe tbody tr th:only-of-type {\n",
       "        vertical-align: middle;\n",
       "    }\n",
       "\n",
       "    .dataframe tbody tr th {\n",
       "        vertical-align: top;\n",
       "    }\n",
       "\n",
       "    .dataframe thead th {\n",
       "        text-align: right;\n",
       "    }\n",
       "</style>\n",
       "<table border=\"1\" class=\"dataframe\">\n",
       "  <thead>\n",
       "    <tr style=\"text-align: right;\">\n",
       "      <th></th>\n",
       "      <th>Headshape</th>\n",
       "      <th>Bodyshape</th>\n",
       "      <th>Bodycolour</th>\n",
       "      <th>Loandefault</th>\n",
       "    </tr>\n",
       "  </thead>\n",
       "  <tbody>\n",
       "    <tr>\n",
       "      <th>0</th>\n",
       "      <td>square</td>\n",
       "      <td>oval</td>\n",
       "      <td>white</td>\n",
       "      <td>no</td>\n",
       "    </tr>\n",
       "    <tr>\n",
       "      <th>1</th>\n",
       "      <td>round</td>\n",
       "      <td>oval</td>\n",
       "      <td>black</td>\n",
       "      <td>yes</td>\n",
       "    </tr>\n",
       "    <tr>\n",
       "      <th>2</th>\n",
       "      <td>square</td>\n",
       "      <td>rectangle</td>\n",
       "      <td>white</td>\n",
       "      <td>yes</td>\n",
       "    </tr>\n",
       "    <tr>\n",
       "      <th>3</th>\n",
       "      <td>square</td>\n",
       "      <td>rectangle</td>\n",
       "      <td>white</td>\n",
       "      <td>yes</td>\n",
       "    </tr>\n",
       "    <tr>\n",
       "      <th>4</th>\n",
       "      <td>square</td>\n",
       "      <td>rectangle</td>\n",
       "      <td>white</td>\n",
       "      <td>yes</td>\n",
       "    </tr>\n",
       "    <tr>\n",
       "      <th>5</th>\n",
       "      <td>round</td>\n",
       "      <td>rectangle</td>\n",
       "      <td>black</td>\n",
       "      <td>no</td>\n",
       "    </tr>\n",
       "    <tr>\n",
       "      <th>6</th>\n",
       "      <td>square</td>\n",
       "      <td>rectangle</td>\n",
       "      <td>white</td>\n",
       "      <td>yes</td>\n",
       "    </tr>\n",
       "    <tr>\n",
       "      <th>7</th>\n",
       "      <td>square</td>\n",
       "      <td>oval</td>\n",
       "      <td>white</td>\n",
       "      <td>no</td>\n",
       "    </tr>\n",
       "    <tr>\n",
       "      <th>8</th>\n",
       "      <td>square</td>\n",
       "      <td>oval</td>\n",
       "      <td>white</td>\n",
       "      <td>no</td>\n",
       "    </tr>\n",
       "    <tr>\n",
       "      <th>9</th>\n",
       "      <td>square</td>\n",
       "      <td>rectangle</td>\n",
       "      <td>white</td>\n",
       "      <td>yes</td>\n",
       "    </tr>\n",
       "    <tr>\n",
       "      <th>10</th>\n",
       "      <td>square</td>\n",
       "      <td>oval</td>\n",
       "      <td>white</td>\n",
       "      <td>no</td>\n",
       "    </tr>\n",
       "    <tr>\n",
       "      <th>11</th>\n",
       "      <td>round</td>\n",
       "      <td>oval</td>\n",
       "      <td>white</td>\n",
       "      <td>yes</td>\n",
       "    </tr>\n",
       "  </tbody>\n",
       "</table>\n",
       "</div>"
      ],
      "text/plain": [
       "   Headshape  Bodyshape Bodycolour Loandefault\n",
       "0     square       oval      white          no\n",
       "1      round       oval      black         yes\n",
       "2     square  rectangle      white         yes\n",
       "3     square  rectangle      white         yes\n",
       "4     square  rectangle      white         yes\n",
       "5      round  rectangle      black          no\n",
       "6     square  rectangle      white         yes\n",
       "7     square       oval      white          no\n",
       "8     square       oval      white          no\n",
       "9     square  rectangle      white         yes\n",
       "10    square       oval      white          no\n",
       "11     round       oval      white         yes"
      ]
     },
     "execution_count": 36,
     "metadata": {},
     "output_type": "execute_result"
    }
   ],
   "source": [
    "import pandas as pd\n",
    "import numpy as np\n",
    "\n",
    "df = pd.read_csv(\"C:/Users/Angeliki/Documents/GitHub/COMP5122M-Data-Science-Exam-Prep/entropy.txt\")\n",
    "df"
   ]
  },
  {
   "cell_type": "code",
   "execution_count": 37,
   "metadata": {},
   "outputs": [
    {
     "name": "stdout",
     "output_type": "stream",
     "text": [
      "Headshape ['square' 'round']\n",
      "Bodyshape ['oval' 'rectangle']\n",
      "Bodycolour ['white' 'black']\n",
      "Loandefault ['no' 'yes']\n"
     ]
    }
   ],
   "source": [
    "for col in df:\n",
    "    if df[col].dtype == 'object' or df[col].dtype == 'bool':\n",
    "        print(col, df[col].unique())"
   ]
  },
  {
   "cell_type": "code",
   "execution_count": 38,
   "metadata": {},
   "outputs": [
    {
     "data": {
      "text/html": [
       "<div>\n",
       "<style scoped>\n",
       "    .dataframe tbody tr th:only-of-type {\n",
       "        vertical-align: middle;\n",
       "    }\n",
       "\n",
       "    .dataframe tbody tr th {\n",
       "        vertical-align: top;\n",
       "    }\n",
       "\n",
       "    .dataframe thead th {\n",
       "        text-align: right;\n",
       "    }\n",
       "</style>\n",
       "<table border=\"1\" class=\"dataframe\">\n",
       "  <thead>\n",
       "    <tr style=\"text-align: right;\">\n",
       "      <th></th>\n",
       "      <th>Headshape</th>\n",
       "      <th>Bodyshape</th>\n",
       "      <th>Bodycolour</th>\n",
       "      <th>Loandefault</th>\n",
       "    </tr>\n",
       "  </thead>\n",
       "  <tbody>\n",
       "    <tr>\n",
       "      <th>0</th>\n",
       "      <td>1</td>\n",
       "      <td>1</td>\n",
       "      <td>1</td>\n",
       "      <td>0</td>\n",
       "    </tr>\n",
       "    <tr>\n",
       "      <th>1</th>\n",
       "      <td>2</td>\n",
       "      <td>1</td>\n",
       "      <td>2</td>\n",
       "      <td>1</td>\n",
       "    </tr>\n",
       "    <tr>\n",
       "      <th>2</th>\n",
       "      <td>1</td>\n",
       "      <td>2</td>\n",
       "      <td>1</td>\n",
       "      <td>1</td>\n",
       "    </tr>\n",
       "    <tr>\n",
       "      <th>3</th>\n",
       "      <td>1</td>\n",
       "      <td>2</td>\n",
       "      <td>1</td>\n",
       "      <td>1</td>\n",
       "    </tr>\n",
       "    <tr>\n",
       "      <th>4</th>\n",
       "      <td>1</td>\n",
       "      <td>2</td>\n",
       "      <td>1</td>\n",
       "      <td>1</td>\n",
       "    </tr>\n",
       "    <tr>\n",
       "      <th>5</th>\n",
       "      <td>2</td>\n",
       "      <td>2</td>\n",
       "      <td>2</td>\n",
       "      <td>0</td>\n",
       "    </tr>\n",
       "    <tr>\n",
       "      <th>6</th>\n",
       "      <td>1</td>\n",
       "      <td>2</td>\n",
       "      <td>1</td>\n",
       "      <td>1</td>\n",
       "    </tr>\n",
       "    <tr>\n",
       "      <th>7</th>\n",
       "      <td>1</td>\n",
       "      <td>1</td>\n",
       "      <td>1</td>\n",
       "      <td>0</td>\n",
       "    </tr>\n",
       "    <tr>\n",
       "      <th>8</th>\n",
       "      <td>1</td>\n",
       "      <td>1</td>\n",
       "      <td>1</td>\n",
       "      <td>0</td>\n",
       "    </tr>\n",
       "    <tr>\n",
       "      <th>9</th>\n",
       "      <td>1</td>\n",
       "      <td>2</td>\n",
       "      <td>1</td>\n",
       "      <td>1</td>\n",
       "    </tr>\n",
       "    <tr>\n",
       "      <th>10</th>\n",
       "      <td>1</td>\n",
       "      <td>1</td>\n",
       "      <td>1</td>\n",
       "      <td>0</td>\n",
       "    </tr>\n",
       "    <tr>\n",
       "      <th>11</th>\n",
       "      <td>2</td>\n",
       "      <td>1</td>\n",
       "      <td>1</td>\n",
       "      <td>1</td>\n",
       "    </tr>\n",
       "  </tbody>\n",
       "</table>\n",
       "</div>"
      ],
      "text/plain": [
       "    Headshape  Bodyshape  Bodycolour  Loandefault\n",
       "0           1          1           1            0\n",
       "1           2          1           2            1\n",
       "2           1          2           1            1\n",
       "3           1          2           1            1\n",
       "4           1          2           1            1\n",
       "5           2          2           2            0\n",
       "6           1          2           1            1\n",
       "7           1          1           1            0\n",
       "8           1          1           1            0\n",
       "9           1          2           1            1\n",
       "10          1          1           1            0\n",
       "11          2          1           1            1"
      ]
     },
     "execution_count": 38,
     "metadata": {},
     "output_type": "execute_result"
    }
   ],
   "source": [
    "df['Headshape'] = df['Headshape'].replace(['square','round'],[1,2])\n",
    "df['Bodyshape'] = df['Bodyshape'].replace(['oval','rectangle'],[1,2])\n",
    "df['Bodycolour'] = df['Bodycolour'].replace(['white','black'],[1,2])\n",
    "df['Loandefault'] = df['Loandefault'].replace(['no','yes'],[0,1])\n",
    "df"
   ]
  },
  {
   "cell_type": "code",
   "execution_count": 45,
   "metadata": {},
   "outputs": [
    {
     "name": "stdout",
     "output_type": "stream",
     "text": [
      "Dataset entropy is:  0.9799\n",
      "SUCCESS!!!\n"
     ]
    }
   ],
   "source": [
    "dataset_probability = df['Loandefault'].value_counts(normalize=True)\n",
    "#print(col, 'probability is: ', round(probability, 4))\n",
    "dataset_entropy = -1 * np.sum(np.log2(dataset_probability) * dataset_probability)\n",
    "print('Dataset entropy is: ', round(dataset_entropy, 4))\n",
    "print('SUCCESS!!!')"
   ]
  },
  {
   "cell_type": "code",
   "execution_count": 49,
   "metadata": {},
   "outputs": [
    {
     "name": "stdout",
     "output_type": "stream",
     "text": [
      "Headshape entropy is:  0.8113\n",
      "FAIL!!!\n"
     ]
    }
   ],
   "source": [
    "headshape_probability = df['Headshape'].value_counts(normalize=True)\n",
    "#print(col, 'probability is: ', round(probability, 4))\n",
    "headshape_entropy = -1 * np.sum(np.log2(headshape_probability) * headshape_probability)\n",
    "print('Headshape entropy is: ', round(headshape_entropy, 4))\n",
    "print('FAIL!!!')"
   ]
  },
  {
   "cell_type": "code",
   "execution_count": 50,
   "metadata": {},
   "outputs": [
    {
     "name": "stdout",
     "output_type": "stream",
     "text": [
      "Bodyshape entropy is:  1.0\n",
      "FAIL!!!\n"
     ]
    }
   ],
   "source": [
    "bodyshape_probability = df['Bodyshape'].value_counts(normalize=True)\n",
    "#print(col, 'probability is: ', round(probability, 4))\n",
    "bodyshape_entropy = -1 * np.sum(np.log2(bodyshape_probability) * bodyshape_probability)\n",
    "print('Bodyshape entropy is: ', round(bodyshape_entropy, 4))\n",
    "print('FAIL!!!')"
   ]
  },
  {
   "cell_type": "code",
   "execution_count": 51,
   "metadata": {},
   "outputs": [
    {
     "name": "stdout",
     "output_type": "stream",
     "text": [
      "Bodycolour entropy is:  0.65\n",
      "FAIL!!!\n"
     ]
    }
   ],
   "source": [
    "bodycolour_probability = df['Bodycolour'].value_counts(normalize=True)\n",
    "#print(col, 'probability is: ', round(probability, 4))\n",
    "bodycolour_entropy = -1 * np.sum(np.log2(bodycolour_probability) * bodycolour_probability)\n",
    "print('Bodycolour entropy is: ', round(bodycolour_entropy, 4))\n",
    "print('FAIL!!!')"
   ]
  },
  {
   "cell_type": "code",
   "execution_count": null,
   "metadata": {},
   "outputs": [],
   "source": []
  }
 ],
 "metadata": {
  "kernelspec": {
   "display_name": "Python 3",
   "language": "python",
   "name": "python3"
  },
  "language_info": {
   "codemirror_mode": {
    "name": "ipython",
    "version": 3
   },
   "file_extension": ".py",
   "mimetype": "text/x-python",
   "name": "python",
   "nbconvert_exporter": "python",
   "pygments_lexer": "ipython3",
   "version": "3.7.6"
  }
 },
 "nbformat": 4,
 "nbformat_minor": 4
}
